{
 "cells": [
  {
   "cell_type": "markdown",
   "metadata": {},
   "source": [
    "# Longest_common_substring:\n",
    "\n",
    "Input : X = “abcdxyz”, y = “xyzabcd”\n",
    "Output : 4\n",
    "The longest common substring is “abcd” and is of length 4.\n",
    "\n",
    "Time complexity:O(n*m)\n"
   ]
  },
  {
   "cell_type": "code",
   "execution_count": 12,
   "metadata": {},
   "outputs": [
    {
     "name": "stdout",
     "output_type": "stream",
     "text": [
      "Enter two string seperated by space  abcdxyz xyzabcd\n",
      "length of Longest common sequence: 4\n"
     ]
    }
   ],
   "source": [
    "def LCS():\n",
    "    a,b=input(\"Enter two string seperated by space  \").split(\" \")\n",
    "    n=len(a)\n",
    "    m=len(b)\n",
    "    T=[] #table tostore the length of longest sbstring.T will have n+1 rows and m+1 coloumn ,initilized with 0.\n",
    "    for i in range(n+1):\n",
    "        k=[]\n",
    "        for j in range(m+1):\n",
    "            k.append(0)\n",
    "        T.append(k)\n",
    "    for i in range(1,n+1):\n",
    "        for j in range(1,m+1):\n",
    "            if(a[i-1]==b[j-1]):\n",
    "                T[i][j]=T[i-1][j-1]+1\n",
    "            else:\n",
    "                T[i][j]=max(T[i-1][j],T[i][j-1])\n",
    "    print(\"length of Longest common sequence:\",T[n][m])#last element will have the longest common sequence\n",
    "\n",
    "LCS()\n",
    "\n",
    "    "
   ]
  }
 ],
 "metadata": {
  "kernelspec": {
   "display_name": "Python 3",
   "language": "python",
   "name": "python3"
  },
  "language_info": {
   "codemirror_mode": {
    "name": "ipython",
    "version": 3
   },
   "file_extension": ".py",
   "mimetype": "text/x-python",
   "name": "python",
   "nbconvert_exporter": "python",
   "pygments_lexer": "ipython3",
   "version": "3.7.5"
  }
 },
 "nbformat": 4,
 "nbformat_minor": 2
}
