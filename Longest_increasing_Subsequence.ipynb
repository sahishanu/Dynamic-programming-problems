{
 "cells": [
  {
   "cell_type": "markdown",
   "metadata": {},
   "source": [
    "# Longest Increasing Subsequence (LIS)-\n",
    "Longest Increasing Subsequence (LIS) problem : Find the length of the longest subsequence of a given sequence such that all elements of the subsequence are sorted in increasing order. For example, the length of LIS for {10, 22, 9, 33, 21, 50, 41, 60, 80} is 6 and LIS is {10, 22, 33, 50, 60, 80}.\n"
   ]
  },
  {
   "cell_type": "code",
   "execution_count": 5,
   "metadata": {},
   "outputs": [
    {
     "name": "stdout",
     "output_type": "stream",
     "text": [
      "2\n",
      "8\n",
      "10 22 9 33 21 50 41 60\n",
      "5\n",
      "5\n",
      "5 4 1 2 3\n",
      "3\n"
     ]
    }
   ],
   "source": [
    "k=int(input()) #total no. of tst cases\n",
    "for x in range(k):\n",
    "    n=int(input())  #no. of element in list\n",
    "    l=list(map(int,input().split(\" \")))  #storing n spaced seperated element in list as integers\n",
    "    T=[]   #table to store the solution of subproblems\n",
    "    \"\"\"initilizing the table of same length as that of list with 1 ,as the max incresing subsequence \n",
    "    with single element is haveing one element.\"\"\"\n",
    "    for i in range(n):\n",
    "        T.append(1)\n",
    "    for i in range(n):\n",
    "        for j in range(0,i):\n",
    "            if(l[i]>l[j] and T[i]<(T[j]+1)):\n",
    "                T[i]=T[j]+1\n",
    "    print(max(T))   #Every element in T[i] is the no. of longest subsequence that can be found,  including l[i] in the sequence as the last element\n",
    "    \n",
    "    \n",
    "    "
   ]
  }
 ],
 "metadata": {
  "kernelspec": {
   "display_name": "Python 3",
   "language": "python",
   "name": "python3"
  },
  "language_info": {
   "codemirror_mode": {
    "name": "ipython",
    "version": 3
   },
   "file_extension": ".py",
   "mimetype": "text/x-python",
   "name": "python",
   "nbconvert_exporter": "python",
   "pygments_lexer": "ipython3",
   "version": "3.7.5"
  }
 },
 "nbformat": 4,
 "nbformat_minor": 2
}
