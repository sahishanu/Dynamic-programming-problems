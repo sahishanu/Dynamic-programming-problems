{
 "cells": [
  {
   "cell_type": "markdown",
   "metadata": {},
   "source": [
    "# Edit Distance-\n",
    "\n",
    "Minimum no. of edit required to convert string1 to string2.\n",
    "\n",
    "Operations or edits(each have cost 1):\n",
    "1. Insert\n",
    "2. Delete\n",
    "3. Modify\n",
    "\n",
    "s1=geek  s2=gesek\n",
    "cost=1 (as only one delete operation is performed)"
   ]
  },
  {
   "cell_type": "code",
   "execution_count": 7,
   "metadata": {},
   "outputs": [
    {
     "name": "stdout",
     "output_type": "stream",
     "text": [
      "Minimum cost :  2\n",
      "Minimum cost :  1\n",
      "Minimum cost :  3\n"
     ]
    }
   ],
   "source": [
    "def edit_cost(s1 , s2):\n",
    "    n=len(s1)\n",
    "    m=len(s2)\n",
    "    T=[[0 for j in range(m+1)] for i in range(n+1)]#stores  the minimum no. of edit required.\n",
    "    for i in range(n+1):\n",
    "        for j in range(m+1):\n",
    "            if(i==0):\n",
    "                T[i][j]=j #to initilize the first coloumn with the base case values.\n",
    "            elif(j==0):\n",
    "                T[i][j]=i  #to initilize the first row with the base case values.\n",
    "            else:\n",
    "                if(s1[i-1]==s2[j-1]):\n",
    "                    T[i][j]=T[i-1][j-1]\n",
    "                else:\n",
    "                    T[i][j]= 1 + min(T[i-1][j-1],T[i-1][j],T[i][j-1])\n",
    "    print(\"Minimum cost : \",T[n][m]) # the last element in T will be the minimum cost\n",
    "                \n",
    "\n",
    "edit_cost(\"abc\",\"abdd\")\n",
    "edit_cost(\"geek\",\"gesek\")\n",
    "edit_cost(\"computer\",\"cempotear\")\n",
    "\n",
    "    "
   ]
  }
 ],
 "metadata": {
  "kernelspec": {
   "display_name": "Python 3",
   "language": "python",
   "name": "python3"
  },
  "language_info": {
   "codemirror_mode": {
    "name": "ipython",
    "version": 3
   },
   "file_extension": ".py",
   "mimetype": "text/x-python",
   "name": "python",
   "nbconvert_exporter": "python",
   "pygments_lexer": "ipython3",
   "version": "3.7.5"
  }
 },
 "nbformat": 4,
 "nbformat_minor": 2
}
