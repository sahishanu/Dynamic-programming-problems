{
 "cells": [
  {
   "cell_type": "markdown",
   "metadata": {},
   "source": [
    "# 0-1_Knapsack\n",
    "Given weights and values of n items, put these items in a knapsack of capacity W to get the maximum total value in the knapsack. \n",
    "You cannot break an item, either pick the complete item, or don’t pick it (0-1 property).\n",
    " \n",
    " example:\n",
    " \n",
    "         weights={10,20,30}\n",
    "         values={60,100,120}\n",
    "         Bag size=50\n",
    "         \n",
    "         solution: Max value=220\n",
    "\n",
    "         \n"
   ]
  },
  {
   "cell_type": "code",
   "execution_count": 3,
   "metadata": {},
   "outputs": [
    {
     "name": "stdout",
     "output_type": "stream",
     "text": [
      "Enter weight 10 20 30\n",
      "Enter values 60 100 120\n",
      "Enter bag weight50\n",
      "max value: 220\n"
     ]
    }
   ],
   "source": [
    "wt=list(map(int,input(\"Enter weight \").split(\" \")))\n",
    "vl=list(map(int,input(\"Enter values \").split(\" \")))\n",
    "bg_wt=int(input(\"Enter bag weight\"))\n",
    "n=len(vl)\n",
    "\n",
    "k=[[0 for i in range(bg_wt+1)] for j in range(n+1)]\n",
    "\n",
    "for i in range(n+1):\n",
    "    for w in range(bg_wt+1):\n",
    "        if(i==0 or w==0):\n",
    "            k[i][w]=0\n",
    "        elif(wt[i-1]<=w):\n",
    "            k[i][w]=max(vl[i-1]+k[i-1][w-wt[i-1]],k[i-1][w])\n",
    "        else:\n",
    "            k[i][w]=k[i-1][w]\n",
    "print(\"max value:\",k[n][w])\n",
    "            \n",
    "            "
   ]
  }
 ],
 "metadata": {
  "kernelspec": {
   "display_name": "Python 3",
   "language": "python",
   "name": "python3"
  },
  "language_info": {
   "codemirror_mode": {
    "name": "ipython",
    "version": 3
   },
   "file_extension": ".py",
   "mimetype": "text/x-python",
   "name": "python",
   "nbconvert_exporter": "python",
   "pygments_lexer": "ipython3",
   "version": "3.7.5"
  }
 },
 "nbformat": 4,
 "nbformat_minor": 2
}
