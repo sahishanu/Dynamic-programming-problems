{
 "cells": [
  {
   "cell_type": "markdown",
   "metadata": {},
   "source": [
    "# Binomial coefficient-\n",
    "\n",
    "C(n,k) is the coefficient of the term with the power of k and in the expended expression of (x+1)^n.\n",
    "\n",
    "C(2,1)=2\n",
    "\n",
    "It also gives the numbers of ways in which k object can be chosen from n objects."
   ]
  },
  {
   "cell_type": "markdown",
   "metadata": {},
   "source": [
    "#### Optimal substructure:\n",
    "\n",
    "> C(n,k)=C(n-1,k-1)+C(n-1,k)\n",
    "\n",
    "> C(n,0)=C(n,n)=1 //base case"
   ]
  },
  {
   "cell_type": "code",
   "execution_count": 7,
   "metadata": {},
   "outputs": [
    {
     "name": "stdout",
     "output_type": "stream",
     "text": [
      "Input Value of n: 5\n",
      "Input value of k: 2\n",
      "10\n"
     ]
    }
   ],
   "source": [
    "n=int(input(\"Input Value of n: \"))\n",
    "k=int(input(\"Input value of k: \"))\n",
    "T = [[0 for x in range(k+1)] for x in range(n+1)]\n",
    "for i in range(n+1):\n",
    "    for j in range(min(i,k)+1):# we don't have to find the values for which k>n or (k>i).\n",
    "        if(j==0 or j==i):\n",
    "            T[i][j]=1\n",
    "        else:\n",
    "            T[i][j]=T[i-1][j]+T[i-1][j-1]\n",
    "            \n",
    "print(T[n][k])"
   ]
  },
  {
   "cell_type": "markdown",
   "metadata": {},
   "source": [
    "#### Space efficent approch:"
   ]
  },
  {
   "cell_type": "code",
   "execution_count": 10,
   "metadata": {},
   "outputs": [
    {
     "name": "stdout",
     "output_type": "stream",
     "text": [
      "Input Value of n: 2\n",
      "Input value of k: 1\n",
      "2\n"
     ]
    }
   ],
   "source": [
    "n=int(input(\"Input Value of n: \"))\n",
    "k=int(input(\"Input value of k: \"))\n",
    "T=[0 for i in range(k+1)]\n",
    "T[0]=1\n",
    "\n",
    "for i in range(1,n+1):\n",
    "    j=min(i,k)\n",
    "    while(j>0):\n",
    "        T[j]=T[j]+T[j-1]\n",
    "        j-=1\n",
    "print(T[k])\n",
    "\n"
   ]
  }
 ],
 "metadata": {
  "kernelspec": {
   "display_name": "Python 3",
   "language": "python",
   "name": "python3"
  },
  "language_info": {
   "codemirror_mode": {
    "name": "ipython",
    "version": 3
   },
   "file_extension": ".py",
   "mimetype": "text/x-python",
   "name": "python",
   "nbconvert_exporter": "python",
   "pygments_lexer": "ipython3",
   "version": "3.7.5"
  }
 },
 "nbformat": 4,
 "nbformat_minor": 2
}
